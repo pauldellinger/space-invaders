{
 "cells": [
  {
   "cell_type": "code",
   "execution_count": 7,
   "metadata": {},
   "outputs": [
    {
     "name": "stdout",
     "output_type": "stream",
     "text": [
      "<class 'geneticAlgo.geneticAlgorithm'>\n"
     ]
    }
   ],
   "source": [
    "import pickle\n",
    "from geneticAlgo import geneticAlgorithm\n",
    "\n",
    "intermediate = pickle.load(open('strategies/20201110-233520-intermediate-17-results.p', 'rb'))\n",
    "print(type(intermediate))"
   ]
  },
  {
   "cell_type": "code",
   "execution_count": 8,
   "metadata": {},
   "outputs": [
    {
     "name": "stdout",
     "output_type": "stream",
     "text": [
      "[<strategy.Strategy object at 0x7fb8745b8b20>, <strategy.Strategy object at 0x7fb872dd0100>, <strategy.Strategy object at 0x7fb872e1e760>, <strategy.Strategy object at 0x7fb872e1e670>, <strategy.Strategy object at 0x7fb8745b8f70>, <strategy.Strategy object at 0x7fb8745b8ee0>, <strategy.Strategy object at 0x7fb8745b8f40>, <strategy.Strategy object at 0x7fb874586ac0>, <strategy.Strategy object at 0x7fb8745866d0>, <strategy.Strategy object at 0x7fb874586880>, <strategy.Strategy object at 0x7fb874586520>, <strategy.Strategy object at 0x7fb8745868b0>, <strategy.Strategy object at 0x7fb874586760>, <strategy.Strategy object at 0x7fb874586970>, <strategy.Strategy object at 0x7fb874586a00>, <strategy.Strategy object at 0x7fb874586af0>, <strategy.Strategy object at 0x7fb874586b20>, <strategy.Strategy object at 0x7fb874586a60>, <strategy.Strategy object at 0x7fb874586910>, <strategy.Strategy object at 0x7fb875794040>, <strategy.Strategy object at 0x7fb8757940a0>, <strategy.Strategy object at 0x7fb875794100>, <strategy.Strategy object at 0x7fb875794160>, <strategy.Strategy object at 0x7fb8757941c0>, <strategy.Strategy object at 0x7fb875794220>, <strategy.Strategy object at 0x7fb875794280>, <strategy.Strategy object at 0x7fb8757942e0>, <strategy.Strategy object at 0x7fb875794340>, <strategy.Strategy object at 0x7fb8757943a0>, <strategy.Strategy object at 0x7fb875794400>, <strategy.Strategy object at 0x7fb875794460>, <strategy.Strategy object at 0x7fb8757944c0>, <strategy.Strategy object at 0x7fb875794520>, <strategy.Strategy object at 0x7fb875794580>, <strategy.Strategy object at 0x7fb8757945e0>, <strategy.Strategy object at 0x7fb875794640>, <strategy.Strategy object at 0x7fb8757946a0>, <strategy.Strategy object at 0x7fb875794700>, <strategy.Strategy object at 0x7fb875794760>, <strategy.Strategy object at 0x7fb8757947c0>, <strategy.Strategy object at 0x7fb875794820>, <strategy.Strategy object at 0x7fb875794880>, <strategy.Strategy object at 0x7fb8757948e0>, <strategy.Strategy object at 0x7fb875794940>, <strategy.Strategy object at 0x7fb8757949a0>, <strategy.Strategy object at 0x7fb875794a00>, <strategy.Strategy object at 0x7fb875794a60>, <strategy.Strategy object at 0x7fb875794ac0>, <strategy.Strategy object at 0x7fb875794b20>, <strategy.Strategy object at 0x7fb875794b80>]\n"
     ]
    }
   ],
   "source": [
    "print(intermediate.strategies)"
   ]
  },
  {
   "cell_type": "code",
   "execution_count": null,
   "metadata": {},
   "outputs": [],
   "source": []
  }
 ],
 "metadata": {
  "kernelspec": {
   "display_name": "Python 3",
   "language": "python",
   "name": "python3"
  },
  "language_info": {
   "codemirror_mode": {
    "name": "ipython",
    "version": 3
   },
   "file_extension": ".py",
   "mimetype": "text/x-python",
   "name": "python",
   "nbconvert_exporter": "python",
   "pygments_lexer": "ipython3",
   "version": "3.8.3"
  }
 },
 "nbformat": 4,
 "nbformat_minor": 4
}
